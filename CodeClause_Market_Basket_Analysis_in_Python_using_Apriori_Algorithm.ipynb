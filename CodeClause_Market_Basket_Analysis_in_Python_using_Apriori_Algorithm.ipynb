{
  "nbformat": 4,
  "nbformat_minor": 0,
  "metadata": {
    "colab": {
      "provenance": []
    },
    "kernelspec": {
      "name": "python3",
      "display_name": "Python 3"
    },
    "language_info": {
      "name": "python"
    }
  },
  "cells": [
    {
      "cell_type": "markdown",
      "source": [
        "# Project 2\n",
        "\n",
        "# Name of Project- Market Basket Analysis in Python using Apriori Algorithm\n",
        "\n",
        "* Name : Aravalam Rajasekhar\n",
        "* gmail : rasekhar6@gmail.com\n",
        "* phone no : 9849692369\n",
        "* Course : B.Tech (Final Year)\n",
        "* College : SVU COLLEGE OF ENGINEERING (TIRUPATI)"
      ],
      "metadata": {
        "id": "7LlYoO1bvF6_"
      }
    },
    {
      "cell_type": "markdown",
      "source": [
        "# Problem Statement :\n",
        "\n",
        "Whenever you visit a retail supermarket, you will find that baby diapers and wipes, bread and butter, pizza base and cheese, beer, and chips are positioned together in the store for sales. This is what market basket analysis is all about analyzing the association among products bought together by customers. Market basket analysis is a versatile use case in the retail industry that helps cross-sell products in a physical outlet and also helps e-commerce businesses recommend products to customers based on product associations. Apriori and FP growth are the most popular machine learning algorithms used for association learning to perform market basket analysis."
      ],
      "metadata": {
        "id": "6Z55xQdevVWJ"
      }
    },
    {
      "cell_type": "markdown",
      "source": [
        "# Apriori Algorithm\n",
        "\n",
        "* Apriori algorithm is used to find out the most frequently and commonly purchased itemset in the market\n",
        "\n",
        "# An association mining problem can be decomposed into two subproblems:\n",
        "* Find all combinations of items in a set of transactions that occur with a specified minimum frequency. These combinations are called frequent itemsets. (See \"Frequent Itemsets\" for an example.)\n",
        "* Calculate rules that express the probable co-occurrence of items within frequent itemsets. (See \"Example: Calculating Rules from Frequent Itemsets\".)\n",
        "* Apriori calculates the probability of an item being present in a frequent itemset, given that another item or items is present.\n",
        "* Association rule mining is not recommended for finding associations involving rare events in problem domains with a large number of items. Apriori discovers patterns with frequency above the minimum support threshold. Therefore, in order to find associations involving rare events, the algorithm must run with very low minimum support values. However, doing so could potentially explode the number of enumerated itemsets, especially in cases with a large number of items. This could increase the execution time significantly. Classification or anomaly detection may be more suitable for discovering rare events when the data has a high number of attributes.\n",
        "\n",
        "# Association Rules :\n",
        "* The Apriori algorithm calculates rules that express probabilistic relationships between items in frequent itemsets For example, a rule derived from frequent itemsets containing A, B, and C might state that if A and B are included in a transaction, then C is likely to also be included.\n",
        "* An association rule states that an item or group of items implies the presence of another item with some probability. Unlike decision tree rules, which predict a target, association rules simply express correlation."
      ],
      "metadata": {
        "id": "rZ2Xk9BjCdkf"
      }
    },
    {
      "cell_type": "markdown",
      "source": [
        "# Importing the required Libraries"
      ],
      "metadata": {
        "id": "dM-ASdN4uQ5t"
      }
    },
    {
      "cell_type": "code",
      "execution_count": 17,
      "metadata": {
        "id": "p_rg0Sc1hgRX"
      },
      "outputs": [],
      "source": [
        "import pandas as pd\n",
        "import matplotlib.pyplot as plt"
      ]
    },
    {
      "cell_type": "code",
      "source": [
        "df=pd.DataFrame({'transaction_id':[1,2,3,4],'items_list':[['i1','i3','i4'],['i2','i3','i5'],['i1','i2','i3','i5'],['i2','i5']]})"
      ],
      "metadata": {
        "id": "UM1FPLRTh_kW"
      },
      "execution_count": 18,
      "outputs": []
    },
    {
      "cell_type": "markdown",
      "source": [
        "# Displaying the dataset"
      ],
      "metadata": {
        "id": "3HV_tyj-DN2V"
      }
    },
    {
      "cell_type": "code",
      "source": [
        "df"
      ],
      "metadata": {
        "colab": {
          "base_uri": "https://localhost:8080/",
          "height": 175
        },
        "id": "ZwBWalAZDSKO",
        "outputId": "49e6fb22-cbbe-4de7-f9ad-5e65c35e3c1d"
      },
      "execution_count": 19,
      "outputs": [
        {
          "output_type": "execute_result",
          "data": {
            "text/plain": [
              "   transaction_id        items_list\n",
              "0               1      [i1, i3, i4]\n",
              "1               2      [i2, i3, i5]\n",
              "2               3  [i1, i2, i3, i5]\n",
              "3               4          [i2, i5]"
            ],
            "text/html": [
              "\n",
              "  <div id=\"df-7119a6f6-a798-41c0-b588-da71c95cc07d\">\n",
              "    <div class=\"colab-df-container\">\n",
              "      <div>\n",
              "<style scoped>\n",
              "    .dataframe tbody tr th:only-of-type {\n",
              "        vertical-align: middle;\n",
              "    }\n",
              "\n",
              "    .dataframe tbody tr th {\n",
              "        vertical-align: top;\n",
              "    }\n",
              "\n",
              "    .dataframe thead th {\n",
              "        text-align: right;\n",
              "    }\n",
              "</style>\n",
              "<table border=\"1\" class=\"dataframe\">\n",
              "  <thead>\n",
              "    <tr style=\"text-align: right;\">\n",
              "      <th></th>\n",
              "      <th>transaction_id</th>\n",
              "      <th>items_list</th>\n",
              "    </tr>\n",
              "  </thead>\n",
              "  <tbody>\n",
              "    <tr>\n",
              "      <th>0</th>\n",
              "      <td>1</td>\n",
              "      <td>[i1, i3, i4]</td>\n",
              "    </tr>\n",
              "    <tr>\n",
              "      <th>1</th>\n",
              "      <td>2</td>\n",
              "      <td>[i2, i3, i5]</td>\n",
              "    </tr>\n",
              "    <tr>\n",
              "      <th>2</th>\n",
              "      <td>3</td>\n",
              "      <td>[i1, i2, i3, i5]</td>\n",
              "    </tr>\n",
              "    <tr>\n",
              "      <th>3</th>\n",
              "      <td>4</td>\n",
              "      <td>[i2, i5]</td>\n",
              "    </tr>\n",
              "  </tbody>\n",
              "</table>\n",
              "</div>\n",
              "      <button class=\"colab-df-convert\" onclick=\"convertToInteractive('df-7119a6f6-a798-41c0-b588-da71c95cc07d')\"\n",
              "              title=\"Convert this dataframe to an interactive table.\"\n",
              "              style=\"display:none;\">\n",
              "        \n",
              "  <svg xmlns=\"http://www.w3.org/2000/svg\" height=\"24px\"viewBox=\"0 0 24 24\"\n",
              "       width=\"24px\">\n",
              "    <path d=\"M0 0h24v24H0V0z\" fill=\"none\"/>\n",
              "    <path d=\"M18.56 5.44l.94 2.06.94-2.06 2.06-.94-2.06-.94-.94-2.06-.94 2.06-2.06.94zm-11 1L8.5 8.5l.94-2.06 2.06-.94-2.06-.94L8.5 2.5l-.94 2.06-2.06.94zm10 10l.94 2.06.94-2.06 2.06-.94-2.06-.94-.94-2.06-.94 2.06-2.06.94z\"/><path d=\"M17.41 7.96l-1.37-1.37c-.4-.4-.92-.59-1.43-.59-.52 0-1.04.2-1.43.59L10.3 9.45l-7.72 7.72c-.78.78-.78 2.05 0 2.83L4 21.41c.39.39.9.59 1.41.59.51 0 1.02-.2 1.41-.59l7.78-7.78 2.81-2.81c.8-.78.8-2.07 0-2.86zM5.41 20L4 18.59l7.72-7.72 1.47 1.35L5.41 20z\"/>\n",
              "  </svg>\n",
              "      </button>\n",
              "      \n",
              "  <style>\n",
              "    .colab-df-container {\n",
              "      display:flex;\n",
              "      flex-wrap:wrap;\n",
              "      gap: 12px;\n",
              "    }\n",
              "\n",
              "    .colab-df-convert {\n",
              "      background-color: #E8F0FE;\n",
              "      border: none;\n",
              "      border-radius: 50%;\n",
              "      cursor: pointer;\n",
              "      display: none;\n",
              "      fill: #1967D2;\n",
              "      height: 32px;\n",
              "      padding: 0 0 0 0;\n",
              "      width: 32px;\n",
              "    }\n",
              "\n",
              "    .colab-df-convert:hover {\n",
              "      background-color: #E2EBFA;\n",
              "      box-shadow: 0px 1px 2px rgba(60, 64, 67, 0.3), 0px 1px 3px 1px rgba(60, 64, 67, 0.15);\n",
              "      fill: #174EA6;\n",
              "    }\n",
              "\n",
              "    [theme=dark] .colab-df-convert {\n",
              "      background-color: #3B4455;\n",
              "      fill: #D2E3FC;\n",
              "    }\n",
              "\n",
              "    [theme=dark] .colab-df-convert:hover {\n",
              "      background-color: #434B5C;\n",
              "      box-shadow: 0px 1px 3px 1px rgba(0, 0, 0, 0.15);\n",
              "      filter: drop-shadow(0px 1px 2px rgba(0, 0, 0, 0.3));\n",
              "      fill: #FFFFFF;\n",
              "    }\n",
              "  </style>\n",
              "\n",
              "      <script>\n",
              "        const buttonEl =\n",
              "          document.querySelector('#df-7119a6f6-a798-41c0-b588-da71c95cc07d button.colab-df-convert');\n",
              "        buttonEl.style.display =\n",
              "          google.colab.kernel.accessAllowed ? 'block' : 'none';\n",
              "\n",
              "        async function convertToInteractive(key) {\n",
              "          const element = document.querySelector('#df-7119a6f6-a798-41c0-b588-da71c95cc07d');\n",
              "          const dataTable =\n",
              "            await google.colab.kernel.invokeFunction('convertToInteractive',\n",
              "                                                     [key], {});\n",
              "          if (!dataTable) return;\n",
              "\n",
              "          const docLinkHtml = 'Like what you see? Visit the ' +\n",
              "            '<a target=\"_blank\" href=https://colab.research.google.com/notebooks/data_table.ipynb>data table notebook</a>'\n",
              "            + ' to learn more about interactive tables.';\n",
              "          element.innerHTML = '';\n",
              "          dataTable['output_type'] = 'display_data';\n",
              "          await google.colab.output.renderOutput(dataTable, element);\n",
              "          const docLink = document.createElement('div');\n",
              "          docLink.innerHTML = docLinkHtml;\n",
              "          element.appendChild(docLink);\n",
              "        }\n",
              "      </script>\n",
              "    </div>\n",
              "  </div>\n",
              "  "
            ]
          },
          "metadata": {},
          "execution_count": 19
        }
      ]
    },
    {
      "cell_type": "markdown",
      "source": [
        "# About Dataset\n",
        "\n",
        "* The dataset consists of 2 columns and 4 rows:\n",
        "\n",
        "# Column info\n",
        "\n",
        "1. **transaction_id** : tells the transaction id of the set of items purchased\n",
        "\n",
        "2. **items_list** : describes the name of the item"
      ],
      "metadata": {
        "id": "ZsWzYtw6Cyxw"
      }
    },
    {
      "cell_type": "code",
      "source": [
        "x=[]\n",
        "for i in df['items_list']:\n",
        "  x.extend(i)\n",
        "x=list(set(x))"
      ],
      "metadata": {
        "id": "IBRHHXiiiDlR"
      },
      "execution_count": 20,
      "outputs": []
    },
    {
      "cell_type": "code",
      "source": [
        "count=[0]*len(x)\n",
        "for i in range(len(x)):\n",
        "  for j in df['items_list']:\n",
        "    if x[i] in j:\n",
        "      count[i]+=1\n"
      ],
      "metadata": {
        "id": "Va-Y0Zhkp6Zt"
      },
      "execution_count": 21,
      "outputs": []
    },
    {
      "cell_type": "markdown",
      "source": [
        "# Items count in all transactions"
      ],
      "metadata": {
        "id": "aNpEjLZnq2xW"
      }
    },
    {
      "cell_type": "code",
      "source": [
        "plt.bar(x,count,width=0.4)\n",
        "plt.xlabel('Items')\n",
        "plt.ylabel('Item count in transactions')"
      ],
      "metadata": {
        "colab": {
          "base_uri": "https://localhost:8080/",
          "height": 296
        },
        "id": "xDhmNaaHrNCj",
        "outputId": "d7190b5b-09b1-4c90-9f24-7efe0e5d396d"
      },
      "execution_count": 22,
      "outputs": [
        {
          "output_type": "execute_result",
          "data": {
            "text/plain": [
              "Text(0, 0.5, 'Item count in transactions')"
            ]
          },
          "metadata": {},
          "execution_count": 22
        },
        {
          "output_type": "display_data",
          "data": {
            "text/plain": [
              "<Figure size 432x288 with 1 Axes>"
            ],
            "image/png": "[encoded data removed]"
          },
          "metadata": {
            "needs_background": "light"
          }
        }
      ]
    },
    {
      "cell_type": "markdown",
      "source": [
        "# Observation in bar chart\n",
        "\n",
        "* items i5,i3,i2 are purchasing frequently but whether it is purchased commonly or not is to be checked by further process"
      ],
      "metadata": {
        "id": "gKmpG17tukam"
      }
    },
    {
      "cell_type": "code",
      "source": [
        "y,z,w,k,dup=[],[],[],1,[]\n",
        "for i in x:\n",
        "  dup.append([i])\n",
        "x=dup\n",
        "count=[0]*len(x)"
      ],
      "metadata": {
        "id": "LFJh9xgOlD9i"
      },
      "execution_count": 23,
      "outputs": []
    },
    {
      "cell_type": "code",
      "source": [
        "x[0]"
      ],
      "metadata": {
        "colab": {
          "base_uri": "https://localhost:8080/"
        },
        "id": "ypdKmT4g1vm6",
        "outputId": "7f14bde4-446a-4a62-ac70-c255240c9cc9"
      },
      "execution_count": 24,
      "outputs": [
        {
          "output_type": "execute_result",
          "data": {
            "text/plain": [
              "['i1']"
            ]
          },
          "metadata": {},
          "execution_count": 24
        }
      ]
    },
    {
      "cell_type": "code",
      "source": [
        "while True:\n",
        "  k+=1\n",
        "  i,j=0,0\n",
        "  while i<len(x):\n",
        "    c=0\n",
        "    for l in x[i]:\n",
        "      if l in df['items_list'][j]:\n",
        "        c+=1\n",
        "    if c==len(x[i]):\n",
        "      count[i]+=1\n",
        "    j+=1\n",
        "    if j==len(df):\n",
        "      print(x[i],count[i])\n",
        "      i+=1\n",
        "      j=0\n",
        "  w,y,v=[],[],0\n",
        "  while v<len(count):\n",
        "    if count[v]>1:\n",
        "      y.append(x[v])\n",
        "      w.append([x[v],count[v]])\n",
        "    v+=1\n",
        "  def d(u):\n",
        "    return u[1]\n",
        "  if len(w)>0:\n",
        "    z.extend(sorted(w,key=d))\n",
        "  if len(y)>1:\n",
        "    i,j,x=0,1,[]\n",
        "    while i<len(y)-k+1:\n",
        "      m=list(set(y[i]+y[j]))\n",
        "      if len(m)==k and m not in x:\n",
        "        x.append(m)\n",
        "      j+=1\n",
        "      if j==len(y):\n",
        "        i+=1\n",
        "        j=i+1\n",
        "    if len(x)>0:\n",
        "      count=[0]*len(x)\n",
        "  else:\n",
        "    break"
      ],
      "metadata": {
        "colab": {
          "base_uri": "https://localhost:8080/"
        },
        "id": "s3bR8iHvl2-z",
        "outputId": "edb0c152-f50b-4dcd-dd23-456552610964"
      },
      "execution_count": 25,
      "outputs": [
        {
          "output_type": "stream",
          "name": "stdout",
          "text": [
            "['i1'] 2\n",
            "['i5'] 3\n",
            "['i4'] 1\n",
            "['i3'] 3\n",
            "['i2'] 3\n",
            "['i1', 'i5'] 1\n",
            "['i1', 'i3'] 2\n",
            "['i1', 'i2'] 1\n",
            "['i3', 'i5'] 2\n",
            "['i2', 'i5'] 3\n",
            "['i3', 'i2'] 2\n",
            "['i1', 'i3', 'i5'] 1\n",
            "['i1', 'i3', 'i2'] 1\n",
            "['i2', 'i3', 'i5'] 2\n"
          ]
        }
      ]
    },
    {
      "cell_type": "code",
      "source": [
        "z.reverse()\n",
        "items_sets,support_count=[],[]\n",
        "for i in z:\n",
        "  items_sets.append(i[0])\n",
        "  support_count.append(i[1])\n",
        "df1=pd.DataFrame({'items_sets':items_sets,'support_count':support_count})"
      ],
      "metadata": {
        "id": "0zv_T5R5AaDZ"
      },
      "execution_count": 26,
      "outputs": []
    },
    {
      "cell_type": "markdown",
      "source": [
        "# Itemsets and their support counts"
      ],
      "metadata": {
        "id": "MAXH6Ukx_ONS"
      }
    },
    {
      "cell_type": "code",
      "source": [
        "df1"
      ],
      "metadata": {
        "id": "NjnL06G7ssLE",
        "colab": {
          "base_uri": "https://localhost:8080/",
          "height": 332
        },
        "outputId": "46dfcb83-1278-4ba1-a1f8-83018e5877bf"
      },
      "execution_count": 27,
      "outputs": [
        {
          "output_type": "execute_result",
          "data": {
            "text/plain": [
              "     items_sets  support_count\n",
              "0  [i2, i3, i5]              2\n",
              "1      [i2, i5]              3\n",
              "2      [i3, i2]              2\n",
              "3      [i3, i5]              2\n",
              "4      [i1, i3]              2\n",
              "5          [i2]              3\n",
              "6          [i3]              3\n",
              "7          [i5]              3\n",
              "8          [i1]              2"
            ],
            "text/html": [
              "\n",
              "  <div id=\"df-5517794f-c994-451b-aa2f-6f741ca924d0\">\n",
              "    <div class=\"colab-df-container\">\n",
              "      <div>\n",
              "<style scoped>\n",
              "    .dataframe tbody tr th:only-of-type {\n",
              "        vertical-align: middle;\n",
              "    }\n",
              "\n",
              "    .dataframe tbody tr th {\n",
              "        vertical-align: top;\n",
              "    }\n",
              "\n",
              "    .dataframe thead th {\n",
              "        text-align: right;\n",
              "    }\n",
              "</style>\n",
              "<table border=\"1\" class=\"dataframe\">\n",
              "  <thead>\n",
              "    <tr style=\"text-align: right;\">\n",
              "      <th></th>\n",
              "      <th>items_sets</th>\n",
              "      <th>support_count</th>\n",
              "    </tr>\n",
              "  </thead>\n",
              "  <tbody>\n",
              "    <tr>\n",
              "      <th>0</th>\n",
              "      <td>[i2, i3, i5]</td>\n",
              "      <td>2</td>\n",
              "    </tr>\n",
              "    <tr>\n",
              "      <th>1</th>\n",
              "      <td>[i2, i5]</td>\n",
              "      <td>3</td>\n",
              "    </tr>\n",
              "    <tr>\n",
              "      <th>2</th>\n",
              "      <td>[i3, i2]</td>\n",
              "      <td>2</td>\n",
              "    </tr>\n",
              "    <tr>\n",
              "      <th>3</th>\n",
              "      <td>[i3, i5]</td>\n",
              "      <td>2</td>\n",
              "    </tr>\n",
              "    <tr>\n",
              "      <th>4</th>\n",
              "      <td>[i1, i3]</td>\n",
              "      <td>2</td>\n",
              "    </tr>\n",
              "    <tr>\n",
              "      <th>5</th>\n",
              "      <td>[i2]</td>\n",
              "      <td>3</td>\n",
              "    </tr>\n",
              "    <tr>\n",
              "      <th>6</th>\n",
              "      <td>[i3]</td>\n",
              "      <td>3</td>\n",
              "    </tr>\n",
              "    <tr>\n",
              "      <th>7</th>\n",
              "      <td>[i5]</td>\n",
              "      <td>3</td>\n",
              "    </tr>\n",
              "    <tr>\n",
              "      <th>8</th>\n",
              "      <td>[i1]</td>\n",
              "      <td>2</td>\n",
              "    </tr>\n",
              "  </tbody>\n",
              "</table>\n",
              "</div>\n",
              "      <button class=\"colab-df-convert\" onclick=\"convertToInteractive('df-5517794f-c994-451b-aa2f-6f741ca924d0')\"\n",
              "              title=\"Convert this dataframe to an interactive table.\"\n",
              "              style=\"display:none;\">\n",
              "        \n",
              "  <svg xmlns=\"http://www.w3.org/2000/svg\" height=\"24px\"viewBox=\"0 0 24 24\"\n",
              "       width=\"24px\">\n",
              "    <path d=\"M0 0h24v24H0V0z\" fill=\"none\"/>\n",
              "    <path d=\"M18.56 5.44l.94 2.06.94-2.06 2.06-.94-2.06-.94-.94-2.06-.94 2.06-2.06.94zm-11 1L8.5 8.5l.94-2.06 2.06-.94-2.06-.94L8.5 2.5l-.94 2.06-2.06.94zm10 10l.94 2.06.94-2.06 2.06-.94-2.06-.94-.94-2.06-.94 2.06-2.06.94z\"/><path d=\"M17.41 7.96l-1.37-1.37c-.4-.4-.92-.59-1.43-.59-.52 0-1.04.2-1.43.59L10.3 9.45l-7.72 7.72c-.78.78-.78 2.05 0 2.83L4 21.41c.39.39.9.59 1.41.59.51 0 1.02-.2 1.41-.59l7.78-7.78 2.81-2.81c.8-.78.8-2.07 0-2.86zM5.41 20L4 18.59l7.72-7.72 1.47 1.35L5.41 20z\"/>\n",
              "  </svg>\n",
              "      </button>\n",
              "      \n",
              "  <style>\n",
              "    .colab-df-container {\n",
              "      display:flex;\n",
              "      flex-wrap:wrap;\n",
              "      gap: 12px;\n",
              "    }\n",
              "\n",
              "    .colab-df-convert {\n",
              "      background-color: #E8F0FE;\n",
              "      border: none;\n",
              "      border-radius: 50%;\n",
              "      cursor: pointer;\n",
              "      display: none;\n",
              "      fill: #1967D2;\n",
              "      height: 32px;\n",
              "      padding: 0 0 0 0;\n",
              "      width: 32px;\n",
              "    }\n",
              "\n",
              "    .colab-df-convert:hover {\n",
              "      background-color: #E2EBFA;\n",
              "      box-shadow: 0px 1px 2px rgba(60, 64, 67, 0.3), 0px 1px 3px 1px rgba(60, 64, 67, 0.15);\n",
              "      fill: #174EA6;\n",
              "    }\n",
              "\n",
              "    [theme=dark] .colab-df-convert {\n",
              "      background-color: #3B4455;\n",
              "      fill: #D2E3FC;\n",
              "    }\n",
              "\n",
              "    [theme=dark] .colab-df-convert:hover {\n",
              "      background-color: #434B5C;\n",
              "      box-shadow: 0px 1px 3px 1px rgba(0, 0, 0, 0.15);\n",
              "      filter: drop-shadow(0px 1px 2px rgba(0, 0, 0, 0.3));\n",
              "      fill: #FFFFFF;\n",
              "    }\n",
              "  </style>\n",
              "\n",
              "      <script>\n",
              "        const buttonEl =\n",
              "          document.querySelector('#df-5517794f-c994-451b-aa2f-6f741ca924d0 button.colab-df-convert');\n",
              "        buttonEl.style.display =\n",
              "          google.colab.kernel.accessAllowed ? 'block' : 'none';\n",
              "\n",
              "        async function convertToInteractive(key) {\n",
              "          const element = document.querySelector('#df-5517794f-c994-451b-aa2f-6f741ca924d0');\n",
              "          const dataTable =\n",
              "            await google.colab.kernel.invokeFunction('convertToInteractive',\n",
              "                                                     [key], {});\n",
              "          if (!dataTable) return;\n",
              "\n",
              "          const docLinkHtml = 'Like what you see? Visit the ' +\n",
              "            '<a target=\"_blank\" href=https://colab.research.google.com/notebooks/data_table.ipynb>data table notebook</a>'\n",
              "            + ' to learn more about interactive tables.';\n",
              "          element.innerHTML = '';\n",
              "          dataTable['output_type'] = 'display_data';\n",
              "          await google.colab.output.renderOutput(dataTable, element);\n",
              "          const docLink = document.createElement('div');\n",
              "          docLink.innerHTML = docLinkHtml;\n",
              "          element.appendChild(docLink);\n",
              "        }\n",
              "      </script>\n",
              "    </div>\n",
              "  </div>\n",
              "  "
            ]
          },
          "metadata": {},
          "execution_count": 27
        }
      ]
    },
    {
      "cell_type": "markdown",
      "source": [
        "# Conclusion :\n",
        "\n",
        "# The itemset which have highest support count is **[i2,i5,i3] = 2** which means people are more frequently and commonly purchasing i2,i5,i3 items in associative manner."
      ],
      "metadata": {
        "id": "VpcI5wWBBPxY"
      }
    }
  ]
}